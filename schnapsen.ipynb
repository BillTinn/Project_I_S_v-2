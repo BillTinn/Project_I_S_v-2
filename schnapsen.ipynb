{
 "cells": [
  {
   "cell_type": "code",
   "execution_count": 1,
   "metadata": {},
   "outputs": [
    {
     "name": "stdout",
     "output_type": "stream",
     "text": [
      "Cloning into 'schnapsen'...\n",
      "remote: Enumerating objects: 1842, done.\u001b[K\n",
      "remote: Counting objects: 100% (938/938), done.\u001b[K\n",
      "remote: Compressing objects: 100% (292/292), done.\u001b[K\n",
      "remote: Total 1842 (delta 673), reused 757 (delta 603), pack-reused 904\u001b[K\n",
      "Receiving objects: 100% (1842/1842), 2.19 MiB | 1.84 MiB/s, done.\n",
      "Resolving deltas: 100% (1032/1032), done.\n",
      "Obtaining file:///workspaces/Project_I_S_v-2/schnapsen\n",
      "  Installing build dependencies ... \u001b[?25ldone\n",
      "\u001b[?25h  Checking if build backend supports build_editable ... \u001b[?25ldone\n",
      "\u001b[?25h  Getting requirements to build editable ... \u001b[?25ldone\n",
      "\u001b[?25h  Preparing editable metadata (pyproject.toml) ... \u001b[?25ldone\n",
      "\u001b[?25hCollecting class-resolver>=0.0.10 (from schnapsen==0.0.4)\n",
      "  Downloading class_resolver-0.4.2-py3-none-any.whl (24 kB)\n",
      "Collecting click==8.1.3 (from schnapsen==0.0.4)\n",
      "  Downloading click-8.1.3-py3-none-any.whl (96 kB)\n",
      "\u001b[2K     \u001b[90m━━━━━━━━━━━━━━━━━━━━━━━━━━━━━━━━━━━━━━━━\u001b[0m \u001b[32m96.6/96.6 kB\u001b[0m \u001b[31m2.9 MB/s\u001b[0m eta \u001b[36m0:00:00\u001b[0m\n",
      "\u001b[?25hRequirement already satisfied: scikit-learn==1.3.2 in /home/codespace/.local/lib/python3.10/site-packages (from schnapsen==0.0.4) (1.3.2)\n",
      "Requirement already satisfied: joblib==1.3.2 in /home/codespace/.local/lib/python3.10/site-packages (from schnapsen==0.0.4) (1.3.2)\n",
      "Collecting flask==2.3.3 (from schnapsen==0.0.4)\n",
      "  Downloading flask-2.3.3-py3-none-any.whl.metadata (3.6 kB)\n",
      "Collecting Werkzeug==3.0.1 (from schnapsen==0.0.4)\n",
      "  Downloading werkzeug-3.0.1-py3-none-any.whl.metadata (4.1 kB)\n",
      "Requirement already satisfied: Jinja2>=3.1.2 in /home/codespace/.local/lib/python3.10/site-packages (from flask==2.3.3->schnapsen==0.0.4) (3.1.2)\n",
      "Collecting itsdangerous>=2.1.2 (from flask==2.3.3->schnapsen==0.0.4)\n",
      "  Downloading itsdangerous-2.1.2-py3-none-any.whl (15 kB)\n",
      "Collecting blinker>=1.6.2 (from flask==2.3.3->schnapsen==0.0.4)\n",
      "  Downloading blinker-1.7.0-py3-none-any.whl.metadata (1.9 kB)\n",
      "Requirement already satisfied: numpy<2.0,>=1.17.3 in /home/codespace/.local/lib/python3.10/site-packages (from scikit-learn==1.3.2->schnapsen==0.0.4) (1.26.3)\n",
      "Requirement already satisfied: scipy>=1.5.0 in /home/codespace/.local/lib/python3.10/site-packages (from scikit-learn==1.3.2->schnapsen==0.0.4) (1.11.4)\n",
      "Requirement already satisfied: threadpoolctl>=2.0.0 in /home/codespace/.local/lib/python3.10/site-packages (from scikit-learn==1.3.2->schnapsen==0.0.4) (3.2.0)\n",
      "Requirement already satisfied: MarkupSafe>=2.1.1 in /home/codespace/.local/lib/python3.10/site-packages (from Werkzeug==3.0.1->schnapsen==0.0.4) (2.1.3)\n",
      "Downloading flask-2.3.3-py3-none-any.whl (96 kB)\n",
      "\u001b[2K   \u001b[90m━━━━━━━━━━━━━━━━━━━━━━━━━━━━━━━━━━━━━━━━\u001b[0m \u001b[32m96.1/96.1 kB\u001b[0m \u001b[31m3.0 MB/s\u001b[0m eta \u001b[36m0:00:00\u001b[0m\n",
      "\u001b[?25hDownloading werkzeug-3.0.1-py3-none-any.whl (226 kB)\n",
      "\u001b[2K   \u001b[90m━━━━━━━━━━━━━━━━━━━━━━━━━━━━━━━━━━━━━━━━\u001b[0m \u001b[32m226.7/226.7 kB\u001b[0m \u001b[31m6.9 MB/s\u001b[0m eta \u001b[36m0:00:00\u001b[0m\n",
      "\u001b[?25hDownloading blinker-1.7.0-py3-none-any.whl (13 kB)\n",
      "Building wheels for collected packages: schnapsen\n",
      "  Building editable for schnapsen (pyproject.toml) ... \u001b[?25ldone\n",
      "\u001b[?25h  Created wheel for schnapsen: filename=schnapsen-0.0.4-0.editable-py3-none-any.whl size=16282 sha256=94988954cab0b1c5e2b9d03dffc511cd883821ff717d71c89b5be0a13969516a\n",
      "  Stored in directory: /tmp/pip-ephem-wheel-cache-xv638lik/wheels/a0/48/9c/cbb49d185761139497ddbfe738d4981b0f83d67f6b1d50e56d\n",
      "Successfully built schnapsen\n",
      "Installing collected packages: Werkzeug, itsdangerous, click, class-resolver, blinker, flask, schnapsen\n",
      "Successfully installed Werkzeug-3.0.1 blinker-1.7.0 class-resolver-0.4.2 click-8.1.3 flask-2.3.3 itsdangerous-2.1.2 schnapsen-0.0.4\n"
     ]
    }
   ],
   "source": [
    "!rm -rf schnapsen && git clone https://github.com/intelligent-systems-course/schnapsen && cd schnapsen && pip install -e . && cd .."
   ]
  }
 ],
 "metadata": {
  "kernelspec": {
   "display_name": "Python 3",
   "language": "python",
   "name": "python3"
  },
  "language_info": {
   "codemirror_mode": {
    "name": "ipython",
    "version": 3
   },
   "file_extension": ".py",
   "mimetype": "text/x-python",
   "name": "python",
   "nbconvert_exporter": "python",
   "pygments_lexer": "ipython3",
   "version": "3.10.13"
  }
 },
 "nbformat": 4,
 "nbformat_minor": 2
}
