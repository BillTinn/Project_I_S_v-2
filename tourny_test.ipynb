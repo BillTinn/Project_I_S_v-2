{
 "cells": [
  {
   "cell_type": "markdown",
   "metadata": {},
   "source": [
    "Testing location for the different bots"
   ]
  },
  {
   "cell_type": "code",
   "execution_count": 1,
   "metadata": {},
   "outputs": [
    {
     "ename": "ModuleNotFoundError",
     "evalue": "No module named 'Randbot'",
     "output_type": "error",
     "traceback": [
      "\u001b[0;31m---------------------------------------------------------------------------\u001b[0m",
      "\u001b[0;31mModuleNotFoundError\u001b[0m                       Traceback (most recent call last)",
      "Cell \u001b[0;32mIn[1], line 3\u001b[0m\n\u001b[1;32m      1\u001b[0m \u001b[38;5;66;03m# Import all files\u001b[39;00m\n\u001b[0;32m----> 3\u001b[0m \u001b[38;5;28;01mfrom\u001b[39;00m \u001b[38;5;21;01mbots\u001b[39;00m \u001b[38;5;28;01mimport\u001b[39;00m (BullyBot, Randbot, RdeepBot, RiskAverseBot, RiskSeekingBot)\n\u001b[1;32m      5\u001b[0m \u001b[38;5;28;01mfrom\u001b[39;00m \u001b[38;5;21;01mschnapsen\u001b[39;00m\u001b[38;5;21;01m.\u001b[39;00m\u001b[38;5;21;01mgame\u001b[39;00m \u001b[38;5;28;01mimport\u001b[39;00m SchnapsenGamePlayEngine\n\u001b[1;32m      6\u001b[0m \u001b[38;5;28;01mimport\u001b[39;00m \u001b[38;5;21;01mrandom\u001b[39;00m \n",
      "File \u001b[0;32m/workspaces/Project_I_S_v-2/bots/RdeepBot.py:5\u001b[0m\n\u001b[1;32m      2\u001b[0m \u001b[38;5;28;01mfrom\u001b[39;00m \u001b[38;5;21;01mschnapsen\u001b[39;00m\u001b[38;5;21;01m.\u001b[39;00m\u001b[38;5;21;01mgame\u001b[39;00m \u001b[38;5;28;01mimport\u001b[39;00m Bot, PlayerPerspective, Move, GameState, GamePlayEngine\n\u001b[1;32m      3\u001b[0m \u001b[38;5;28;01mimport\u001b[39;00m \u001b[38;5;21;01mrandom\u001b[39;00m\n\u001b[0;32m----> 5\u001b[0m \u001b[38;5;28;01mfrom\u001b[39;00m \u001b[38;5;21;01mRandbot\u001b[39;00m \u001b[38;5;28;01mimport\u001b[39;00m RandBot\n\u001b[1;32m      8\u001b[0m \u001b[38;5;28;01mclass\u001b[39;00m \u001b[38;5;21;01mRdeepBot\u001b[39;00m(Bot):\n\u001b[1;32m      9\u001b[0m     \u001b[38;5;28;01mdef\u001b[39;00m \u001b[38;5;21m__init__\u001b[39m(\u001b[38;5;28mself\u001b[39m, num_samples: \u001b[38;5;28mint\u001b[39m, depth: \u001b[38;5;28mint\u001b[39m, rand: random\u001b[38;5;241m.\u001b[39mRandom, name: Optional[\u001b[38;5;28mstr\u001b[39m] \u001b[38;5;241m=\u001b[39m \u001b[38;5;28;01mNone\u001b[39;00m) \u001b[38;5;241m-\u001b[39m\u001b[38;5;241m>\u001b[39m \u001b[38;5;28;01mNone\u001b[39;00m:\n",
      "\u001b[0;31mModuleNotFoundError\u001b[0m: No module named 'Randbot'"
     ]
    }
   ],
   "source": [
    "# Import all files\n",
    "\n",
    "from bots import (BullyBot, RandBot, RdeepBot, RiskAverseBot, RiskSeekingBot)\n",
    "\n",
    "from schnapsen.game import SchnapsenGamePlayEngine\n",
    "import random \n",
    "\n",
    "engine = SchnapsenGamePlayEngine()"
   ]
  },
  {
   "cell_type": "code",
   "execution_count": null,
   "metadata": {},
   "outputs": [],
   "source": [
    "myrepeats = 100000\n",
    "\n",
    "# Create bots.\n",
    "bot1 = RiskAverseBot(name=\"riskaversebot\")\n",
    "bot2 = RandBot(rand=random.Random(), name=\"randbot\")\n",
    "\n",
    "bots = [bot1, bot2]\n",
    "n = len(bots)\n",
    "wins = {str(bot): 0 for bot in bots}\n",
    "points = {str(bot): 0 for bot in bots}\n",
    "matches = [(p1, p2) for p1 in range(n) for p2 in range(n) if p1 < p2]\n",
    "\n",
    "totalgames = (n * n - n) / 2 * myrepeats\n",
    "playedgames = 0\n",
    "\n",
    "print(\"Playing {} games:\".format(int(totalgames)))\n",
    "for a, b in matches:\n",
    "    for r in range(myrepeats):\n",
    "        if random.choice([True, False]):\n",
    "            p = [a, b]\n",
    "        else:\n",
    "            p = [b, a]\n",
    "\n",
    "        winner_id, game_points, score = engine.play_game(\n",
    "            bots[p[0]], bots[p[1]], random.Random()\n",
    "        )\n",
    "\n",
    "        # Increment the win count and points for the winning bot\n",
    "        wins[str(winner_id)] += 1\n",
    "        points[str(winner_id)] += game_points\n",
    "        playedgames += 1\n",
    "        print(\n",
    "            \"Played {} out of {:.0f} games ({:.0f}%): Wins {} Points {} \\r\".format(\n",
    "                playedgames, totalgames, playedgames / float(totalgames) * 100, wins, points\n",
    "            )\n",
    "        )\n",
    "\n",
    "winner = max(wins, key=wins.get)\n",
    "print(f\"The winner is {winner} with {wins[winner]} wins and {points[winner]} points.\")\n",
    "\n",
    "# Calculate the win ratio for the winner\n",
    "win_ratio = round((wins[winner] / playedgames) * 100, 2)\n",
    "print(f\"The win ratio for {winner} is {win_ratio}%.\")"
   ]
  }
 ],
 "metadata": {
  "kernelspec": {
   "display_name": "Python 3",
   "language": "python",
   "name": "python3"
  },
  "language_info": {
   "codemirror_mode": {
    "name": "ipython",
    "version": 3
   },
   "file_extension": ".py",
   "mimetype": "text/x-python",
   "name": "python",
   "nbconvert_exporter": "python",
   "pygments_lexer": "ipython3",
   "version": "3.10.13"
  }
 },
 "nbformat": 4,
 "nbformat_minor": 2
}
